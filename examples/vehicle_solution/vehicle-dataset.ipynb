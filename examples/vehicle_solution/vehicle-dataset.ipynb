{
 "metadata": {
  "kernelspec": {
   "language": "python",
   "display_name": "Python 3",
   "name": "python3"
  },
  "language_info": {
   "name": "python",
   "version": "3.10.12",
   "mimetype": "text/x-python",
   "codemirror_mode": {
    "name": "ipython",
    "version": 3
   },
   "pygments_lexer": "ipython3",
   "nbconvert_exporter": "python",
   "file_extension": ".py"
  }
 },
 "nbformat_minor": 4,
 "nbformat": 4,
 "cells": [
  {
   "cell_type": "code",
   "source": [
    "# This Python 3 environment comes with many helpful analytics libraries installed\n",
    "# It is defined by the kaggle/python Docker image: https://github.comdocker-python\n",
    "# For example, here's several helpful packages to load\n",
    "\n",
    "import numpy as np # linear algebra\n",
    "import pandas as pd # data processing, CSV file I/O (e.g. pd.read_csv)\n",
    "\n",
    "# Input data files are available in the read-only \"../input/\" directory\n",
    "# For example, running this (by clicking run or pressing Shift+Enter) will list all files under the input directory\n",
    "\n",
    "import os\n",
    "for dirname, _, filenames in os.walk('input'):\n",
    "    for filename in filenames:\n",
    "        print(os.path.join(dirname, filename))\n",
    "\n",
    "# You can write up to 20GB to the current directory (working/) that gets preserved as output when you create a version using \"Save & Run All\" \n",
    "# You can also write temporary files to temp/, but they won't be saved outside of the current session"
   ],
   "metadata": {
    "_uuid": "8f2839f25d086af736a60e9eeb907d3b93b6e0e5",
    "_cell_guid": "b1076dfc-b9ad-4769-8c92-a6c4dae69d19",
    "execution": {
     "iopub.status.busy": "2023-09-07T11:35:43.598948Z",
     "iopub.execute_input": "2023-09-07T11:35:43.599421Z",
     "iopub.status.idle": "2023-09-07T11:35:44.037068Z",
     "shell.execute_reply.started": "2023-09-07T11:35:43.599390Z",
     "shell.execute_reply": "2023-09-07T11:35:44.035936Z"
    },
    "trusted": true
   },
   "execution_count": null,
   "outputs": []
  },
  {
   "cell_type": "code",
   "source": [
    "df=pd.read_csv('input/vehicle-dataset-from-cardekho/car data.csv')"
   ],
   "metadata": {
    "execution": {
     "iopub.status.busy": "2023-09-07T11:44:05.500601Z",
     "iopub.execute_input": "2023-09-07T11:44:05.500977Z",
     "iopub.status.idle": "2023-09-07T11:44:05.521075Z",
     "shell.execute_reply.started": "2023-09-07T11:44:05.500947Z",
     "shell.execute_reply": "2023-09-07T11:44:05.520202Z"
    },
    "trusted": true
   },
   "execution_count": null,
   "outputs": []
  },
  {
   "cell_type": "code",
   "source": [
    "df.head(5)"
   ],
   "metadata": {
    "execution": {
     "iopub.status.busy": "2023-09-07T11:44:15.638903Z",
     "iopub.execute_input": "2023-09-07T11:44:15.639298Z",
     "iopub.status.idle": "2023-09-07T11:44:15.662130Z",
     "shell.execute_reply.started": "2023-09-07T11:44:15.639269Z",
     "shell.execute_reply": "2023-09-07T11:44:15.660969Z"
    },
    "trusted": true
   },
   "execution_count": null,
   "outputs": []
  },
  {
   "cell_type": "code",
   "source": [
    "df.shape"
   ],
   "metadata": {
    "execution": {
     "iopub.status.busy": "2023-09-07T11:45:07.646657Z",
     "iopub.execute_input": "2023-09-07T11:45:07.647222Z",
     "iopub.status.idle": "2023-09-07T11:45:07.655275Z",
     "shell.execute_reply.started": "2023-09-07T11:45:07.647189Z",
     "shell.execute_reply": "2023-09-07T11:45:07.653948Z"
    },
    "trusted": true
   },
   "execution_count": null,
   "outputs": []
  },
  {
   "cell_type": "code",
   "source": [
    "print(df['Seller_Type'].unique())\n",
    "print(df['Transmission'].unique())\n",
    "print(df['Owner'].unique())"
   ],
   "metadata": {
    "execution": {
     "iopub.status.busy": "2023-09-07T11:46:40.161257Z",
     "iopub.execute_input": "2023-09-07T11:46:40.162732Z",
     "iopub.status.idle": "2023-09-07T11:46:40.175196Z",
     "shell.execute_reply.started": "2023-09-07T11:46:40.162688Z",
     "shell.execute_reply": "2023-09-07T11:46:40.173977Z"
    },
    "trusted": true
   },
   "execution_count": null,
   "outputs": []
  },
  {
   "cell_type": "code",
   "source": [
    "df.isnull().sum()"
   ],
   "metadata": {
    "execution": {
     "iopub.status.busy": "2023-09-07T11:47:32.244317Z",
     "iopub.execute_input": "2023-09-07T11:47:32.244746Z",
     "iopub.status.idle": "2023-09-07T11:47:32.256441Z",
     "shell.execute_reply.started": "2023-09-07T11:47:32.244712Z",
     "shell.execute_reply": "2023-09-07T11:47:32.255166Z"
    },
    "trusted": true
   },
   "execution_count": null,
   "outputs": []
  },
  {
   "cell_type": "code",
   "source": [
    "df.describe()"
   ],
   "metadata": {
    "execution": {
     "iopub.status.busy": "2023-09-07T11:48:11.914330Z",
     "iopub.execute_input": "2023-09-07T11:48:11.914730Z",
     "iopub.status.idle": "2023-09-07T11:48:11.953071Z",
     "shell.execute_reply.started": "2023-09-07T11:48:11.914698Z",
     "shell.execute_reply": "2023-09-07T11:48:11.951518Z"
    },
    "trusted": true
   },
   "execution_count": null,
   "outputs": []
  },
  {
   "cell_type": "code",
   "source": [
    "df.columns"
   ],
   "metadata": {
    "execution": {
     "iopub.status.busy": "2023-09-07T11:50:17.355003Z",
     "iopub.execute_input": "2023-09-07T11:50:17.355440Z",
     "iopub.status.idle": "2023-09-07T11:50:17.363736Z",
     "shell.execute_reply.started": "2023-09-07T11:50:17.355405Z",
     "shell.execute_reply": "2023-09-07T11:50:17.362575Z"
    },
    "trusted": true
   },
   "execution_count": null,
   "outputs": []
  },
  {
   "cell_type": "code",
   "source": [
    "final_dataset=df[['Year', 'Selling_Price', 'Present_Price', 'Kms_Driven',\n",
    "       'Fuel_Type', 'Seller_Type', 'Transmission', 'Owner']]"
   ],
   "metadata": {
    "execution": {
     "iopub.status.busy": "2023-09-07T11:50:58.462172Z",
     "iopub.execute_input": "2023-09-07T11:50:58.462782Z",
     "iopub.status.idle": "2023-09-07T11:50:58.485101Z",
     "shell.execute_reply.started": "2023-09-07T11:50:58.462730Z",
     "shell.execute_reply": "2023-09-07T11:50:58.483651Z"
    },
    "trusted": true
   },
   "execution_count": null,
   "outputs": []
  },
  {
   "cell_type": "code",
   "source": [
    "final_dataset['Current_year']=2023"
   ],
   "metadata": {
    "execution": {
     "iopub.status.busy": "2023-09-07T11:54:12.472241Z",
     "iopub.execute_input": "2023-09-07T11:54:12.472660Z",
     "iopub.status.idle": "2023-09-07T11:54:12.479645Z",
     "shell.execute_reply.started": "2023-09-07T11:54:12.472628Z",
     "shell.execute_reply": "2023-09-07T11:54:12.478442Z"
    },
    "trusted": true
   },
   "execution_count": null,
   "outputs": []
  },
  {
   "cell_type": "code",
   "source": [
    "final_dataset['no_year']=final_dataset['Current_year']-final_dataset['Year']"
   ],
   "metadata": {
    "execution": {
     "iopub.status.busy": "2023-09-07T11:55:31.207525Z",
     "iopub.execute_input": "2023-09-07T11:55:31.208106Z",
     "iopub.status.idle": "2023-09-07T11:55:31.214950Z",
     "shell.execute_reply.started": "2023-09-07T11:55:31.208066Z",
     "shell.execute_reply": "2023-09-07T11:55:31.213629Z"
    },
    "trusted": true
   },
   "execution_count": null,
   "outputs": []
  },
  {
   "cell_type": "code",
   "source": [
    "final_dataset.head()"
   ],
   "metadata": {
    "execution": {
     "iopub.status.busy": "2023-09-07T11:55:59.456005Z",
     "iopub.execute_input": "2023-09-07T11:55:59.456441Z",
     "iopub.status.idle": "2023-09-07T11:55:59.477574Z",
     "shell.execute_reply.started": "2023-09-07T11:55:59.456403Z",
     "shell.execute_reply": "2023-09-07T11:55:59.475488Z"
    },
    "trusted": true
   },
   "execution_count": null,
   "outputs": []
  },
  {
   "cell_type": "code",
   "source": [
    "final_dataset.drop(['Year'],axis=1,inplace=True)"
   ],
   "metadata": {
    "execution": {
     "iopub.status.busy": "2023-09-07T11:57:20.377506Z",
     "iopub.execute_input": "2023-09-07T11:57:20.377937Z",
     "iopub.status.idle": "2023-09-07T11:57:20.384771Z",
     "shell.execute_reply.started": "2023-09-07T11:57:20.377902Z",
     "shell.execute_reply": "2023-09-07T11:57:20.383665Z"
    },
    "trusted": true
   },
   "execution_count": null,
   "outputs": []
  },
  {
   "cell_type": "code",
   "source": [
    "final_dataset.head()"
   ],
   "metadata": {
    "execution": {
     "iopub.status.busy": "2023-09-07T11:57:29.410710Z",
     "iopub.execute_input": "2023-09-07T11:57:29.411268Z",
     "iopub.status.idle": "2023-09-07T11:57:29.435876Z",
     "shell.execute_reply.started": "2023-09-07T11:57:29.411219Z",
     "shell.execute_reply": "2023-09-07T11:57:29.434651Z"
    },
    "trusted": true
   },
   "execution_count": null,
   "outputs": []
  },
  {
   "cell_type": "code",
   "source": [
    "final_dataset.drop(['Current_year'],axis=1,inplace=True)"
   ],
   "metadata": {
    "execution": {
     "iopub.status.busy": "2023-09-07T11:58:11.784277Z",
     "iopub.execute_input": "2023-09-07T11:58:11.784774Z",
     "iopub.status.idle": "2023-09-07T11:58:11.793224Z",
     "shell.execute_reply.started": "2023-09-07T11:58:11.784734Z",
     "shell.execute_reply": "2023-09-07T11:58:11.791798Z"
    },
    "trusted": true
   },
   "execution_count": null,
   "outputs": []
  },
  {
   "cell_type": "code",
   "source": [
    "final_dataset.head()"
   ],
   "metadata": {
    "execution": {
     "iopub.status.busy": "2023-09-07T11:58:48.316938Z",
     "iopub.execute_input": "2023-09-07T11:58:48.317658Z",
     "iopub.status.idle": "2023-09-07T11:58:48.338340Z",
     "shell.execute_reply.started": "2023-09-07T11:58:48.317608Z",
     "shell.execute_reply": "2023-09-07T11:58:48.336532Z"
    },
    "trusted": true
   },
   "execution_count": null,
   "outputs": []
  },
  {
   "cell_type": "code",
   "source": [
    "final_dataset=pd.get_dummies(final_dataset,drop_first=True)"
   ],
   "metadata": {
    "execution": {
     "iopub.status.busy": "2023-09-07T12:00:23.509109Z",
     "iopub.execute_input": "2023-09-07T12:00:23.509523Z",
     "iopub.status.idle": "2023-09-07T12:00:23.524585Z",
     "shell.execute_reply.started": "2023-09-07T12:00:23.509490Z",
     "shell.execute_reply": "2023-09-07T12:00:23.522782Z"
    },
    "trusted": true
   },
   "execution_count": null,
   "outputs": []
  },
  {
   "cell_type": "code",
   "source": [
    "final_dataset.head()"
   ],
   "metadata": {
    "execution": {
     "iopub.status.busy": "2023-09-07T12:00:31.227782Z",
     "iopub.execute_input": "2023-09-07T12:00:31.228240Z",
     "iopub.status.idle": "2023-09-07T12:00:31.247585Z",
     "shell.execute_reply.started": "2023-09-07T12:00:31.228205Z",
     "shell.execute_reply": "2023-09-07T12:00:31.246052Z"
    },
    "trusted": true
   },
   "execution_count": null,
   "outputs": []
  },
  {
   "cell_type": "code",
   "source": [
    "final_dataset.corr()"
   ],
   "metadata": {
    "execution": {
     "iopub.status.busy": "2023-09-07T12:03:06.839195Z",
     "iopub.execute_input": "2023-09-07T12:03:06.839745Z",
     "iopub.status.idle": "2023-09-07T12:03:06.863944Z",
     "shell.execute_reply.started": "2023-09-07T12:03:06.839700Z",
     "shell.execute_reply": "2023-09-07T12:03:06.862781Z"
    },
    "trusted": true
   },
   "execution_count": null,
   "outputs": []
  },
  {
   "cell_type": "code",
   "source": [
    "import seaborn as sns"
   ],
   "metadata": {
    "execution": {
     "iopub.status.busy": "2023-09-07T12:03:31.510010Z",
     "iopub.execute_input": "2023-09-07T12:03:31.510412Z",
     "iopub.status.idle": "2023-09-07T12:03:32.769130Z",
     "shell.execute_reply.started": "2023-09-07T12:03:31.510380Z",
     "shell.execute_reply": "2023-09-07T12:03:32.767980Z"
    },
    "trusted": true
   },
   "execution_count": null,
   "outputs": []
  },
  {
   "cell_type": "code",
   "source": [
    "sns.pairplot(final_dataset)"
   ],
   "metadata": {
    "execution": {
     "iopub.status.busy": "2023-09-07T12:04:09.005169Z",
     "iopub.execute_input": "2023-09-07T12:04:09.005606Z",
     "iopub.status.idle": "2023-09-07T12:04:40.964103Z",
     "shell.execute_reply.started": "2023-09-07T12:04:09.005563Z",
     "shell.execute_reply": "2023-09-07T12:04:40.962950Z"
    },
    "trusted": true
   },
   "execution_count": null,
   "outputs": []
  },
  {
   "cell_type": "code",
   "source": [
    "import matplotlib.pyplot as plt\n",
    "corrmat=final_dataset.corr()\n",
    "top_corr_features=corrmat.index\n",
    "plt.figure(figsize=(20,20))"
   ],
   "metadata": {
    "execution": {
     "iopub.status.busy": "2023-09-07T12:07:32.710833Z",
     "iopub.execute_input": "2023-09-07T12:07:32.711243Z",
     "iopub.status.idle": "2023-09-07T12:07:32.748479Z",
     "shell.execute_reply.started": "2023-09-07T12:07:32.711209Z",
     "shell.execute_reply": "2023-09-07T12:07:32.747625Z"
    },
    "trusted": true
   },
   "execution_count": null,
   "outputs": []
  },
  {
   "cell_type": "code",
   "source": [
    "sns.heatmap(final_dataset[top_corr_features].corr(),annot=True)"
   ],
   "metadata": {
    "execution": {
     "iopub.status.busy": "2023-09-07T12:10:13.701272Z",
     "iopub.execute_input": "2023-09-07T12:10:13.701705Z",
     "iopub.status.idle": "2023-09-07T12:10:14.472897Z",
     "shell.execute_reply.started": "2023-09-07T12:10:13.701669Z",
     "shell.execute_reply": "2023-09-07T12:10:14.471710Z"
    },
    "trusted": true
   },
   "execution_count": null,
   "outputs": []
  },
  {
   "cell_type": "code",
   "source": [
    "final_dataset.head()"
   ],
   "metadata": {
    "execution": {
     "iopub.status.busy": "2023-09-07T12:11:43.106053Z",
     "iopub.execute_input": "2023-09-07T12:11:43.106445Z",
     "iopub.status.idle": "2023-09-07T12:11:43.127668Z",
     "shell.execute_reply.started": "2023-09-07T12:11:43.106413Z",
     "shell.execute_reply": "2023-09-07T12:11:43.126163Z"
    },
    "trusted": true
   },
   "execution_count": null,
   "outputs": []
  },
  {
   "cell_type": "code",
   "source": [
    "X=final_dataset.iloc[:,1:]\n",
    "y=final_dataset.iloc[:,0]"
   ],
   "metadata": {
    "execution": {
     "iopub.status.busy": "2023-09-07T12:14:50.392476Z",
     "iopub.execute_input": "2023-09-07T12:14:50.392856Z",
     "iopub.status.idle": "2023-09-07T12:14:50.400094Z",
     "shell.execute_reply.started": "2023-09-07T12:14:50.392826Z",
     "shell.execute_reply": "2023-09-07T12:14:50.398482Z"
    },
    "trusted": true
   },
   "execution_count": null,
   "outputs": []
  },
  {
   "cell_type": "code",
   "source": [
    "X.head()"
   ],
   "metadata": {
    "execution": {
     "iopub.status.busy": "2023-09-07T12:14:59.632026Z",
     "iopub.execute_input": "2023-09-07T12:14:59.632437Z",
     "iopub.status.idle": "2023-09-07T12:14:59.648619Z",
     "shell.execute_reply.started": "2023-09-07T12:14:59.632405Z",
     "shell.execute_reply": "2023-09-07T12:14:59.647414Z"
    },
    "trusted": true
   },
   "execution_count": null,
   "outputs": []
  },
  {
   "cell_type": "code",
   "source": [
    "from sklearn.ensemble import ExtraTreesRegressor\n",
    "model=ExtraTreesRegressor()\n",
    "model.fit(X,y)"
   ],
   "metadata": {
    "execution": {
     "iopub.status.busy": "2023-09-07T12:18:02.379869Z",
     "iopub.execute_input": "2023-09-07T12:18:02.380296Z",
     "iopub.status.idle": "2023-09-07T12:18:02.577105Z",
     "shell.execute_reply.started": "2023-09-07T12:18:02.380264Z",
     "shell.execute_reply": "2023-09-07T12:18:02.575864Z"
    },
    "trusted": true
   },
   "execution_count": null,
   "outputs": []
  },
  {
   "cell_type": "code",
   "source": [
    "feat_imprtance=pd.Series(model.feature_importances_,index=X.columns)\n",
    "feat_imprtance.nlargest(5).plot(kind=\"barh\")\n",
    "plt.show()"
   ],
   "metadata": {
    "execution": {
     "iopub.status.busy": "2023-09-07T12:22:00.952273Z",
     "iopub.execute_input": "2023-09-07T12:22:00.952685Z",
     "iopub.status.idle": "2023-09-07T12:22:01.284038Z",
     "shell.execute_reply.started": "2023-09-07T12:22:00.952652Z",
     "shell.execute_reply": "2023-09-07T12:22:01.282633Z"
    },
    "trusted": true
   },
   "execution_count": null,
   "outputs": []
  },
  {
   "cell_type": "code",
   "source": [
    "from sklearn.model_selection import train_test_split\n",
    "X_train,X_test,y_train,y_test=train_test_split(X,y,test_size=0.2)"
   ],
   "metadata": {
    "execution": {
     "iopub.status.busy": "2023-09-07T12:55:51.250231Z",
     "iopub.execute_input": "2023-09-07T12:55:51.250916Z",
     "iopub.status.idle": "2023-09-07T12:55:51.257735Z",
     "shell.execute_reply.started": "2023-09-07T12:55:51.250881Z",
     "shell.execute_reply": "2023-09-07T12:55:51.256660Z"
    },
    "trusted": true
   },
   "execution_count": null,
   "outputs": []
  },
  {
   "cell_type": "code",
   "source": [
    "X_train.shape"
   ],
   "metadata": {
    "execution": {
     "iopub.status.busy": "2023-09-07T12:38:09.973898Z",
     "iopub.execute_input": "2023-09-07T12:38:09.974346Z",
     "iopub.status.idle": "2023-09-07T12:38:09.985091Z",
     "shell.execute_reply.started": "2023-09-07T12:38:09.974310Z",
     "shell.execute_reply": "2023-09-07T12:38:09.983446Z"
    },
    "trusted": true
   },
   "execution_count": null,
   "outputs": []
  },
  {
   "cell_type": "code",
   "source": [
    "from sklearn.ensemble import RandomForestRegressor\n",
    "rf_random=RandomForestRegressor()"
   ],
   "metadata": {
    "execution": {
     "iopub.status.busy": "2023-09-07T12:39:41.011968Z",
     "iopub.execute_input": "2023-09-07T12:39:41.012408Z",
     "iopub.status.idle": "2023-09-07T12:39:41.018425Z",
     "shell.execute_reply.started": "2023-09-07T12:39:41.012377Z",
     "shell.execute_reply": "2023-09-07T12:39:41.016957Z"
    },
    "trusted": true
   },
   "execution_count": null,
   "outputs": []
  },
  {
   "cell_type": "code",
   "source": [
    "n_estimaters=[int(x) for x in np.linspace(start=100,stop=1200,num=12)]\n",
    "print(n_estimaters)"
   ],
   "metadata": {
    "execution": {
     "iopub.status.busy": "2023-09-07T12:43:56.511622Z",
     "iopub.execute_input": "2023-09-07T12:43:56.512029Z",
     "iopub.status.idle": "2023-09-07T12:43:56.518478Z",
     "shell.execute_reply.started": "2023-09-07T12:43:56.511998Z",
     "shell.execute_reply": "2023-09-07T12:43:56.517623Z"
    },
    "trusted": true
   },
   "execution_count": null,
   "outputs": []
  },
  {
   "cell_type": "code",
   "source": [
    "from sklearn.model_selection import RandomizedSearchCV"
   ],
   "metadata": {
    "execution": {
     "iopub.status.busy": "2023-09-07T12:45:35.064362Z",
     "iopub.execute_input": "2023-09-07T12:45:35.064759Z",
     "iopub.status.idle": "2023-09-07T12:45:35.069975Z",
     "shell.execute_reply.started": "2023-09-07T12:45:35.064729Z",
     "shell.execute_reply": "2023-09-07T12:45:35.068888Z"
    },
    "trusted": true
   },
   "execution_count": null,
   "outputs": []
  },
  {
   "cell_type": "code",
   "source": [
    "# Number of trees in random forest\n",
    "n_estimators = [int(x) for x in np.linspace(start = 100, stop = 1200, num = 12)]\n",
    "# Number of features to consider at every split\n",
    "max_features = ['auto', 'sqrt']\n",
    "# Maximum number of levels in tree\n",
    "max_depth = [int(x) for x in np.linspace(5, 30, num = 6)]\n",
    "# max_depth.append(None)\n",
    "# Minimum number of samples required to split a node\n",
    "min_samples_split = [2, 5, 10, 15, 100]\n",
    "# Minimum number of samples required at each leaf node\n",
    "min_samples_leaf = [1, 2, 5, 10]"
   ],
   "metadata": {
    "execution": {
     "iopub.status.busy": "2023-09-07T12:47:05.449795Z",
     "iopub.execute_input": "2023-09-07T12:47:05.450203Z",
     "iopub.status.idle": "2023-09-07T12:47:05.458797Z",
     "shell.execute_reply.started": "2023-09-07T12:47:05.450172Z",
     "shell.execute_reply": "2023-09-07T12:47:05.457050Z"
    },
    "trusted": true
   },
   "execution_count": null,
   "outputs": []
  },
  {
   "cell_type": "code",
   "source": [
    "# Create the random grid\n",
    "random_grid = {'n_estimators': n_estimators,\n",
    "               'max_features': max_features,\n",
    "               'max_depth': max_depth,\n",
    "               'min_samples_split': min_samples_split,\n",
    "               'min_samples_leaf': min_samples_leaf}\n",
    "\n",
    "print(random_grid)"
   ],
   "metadata": {
    "execution": {
     "iopub.status.busy": "2023-09-07T12:48:36.055558Z",
     "iopub.execute_input": "2023-09-07T12:48:36.055963Z",
     "iopub.status.idle": "2023-09-07T12:48:36.062380Z",
     "shell.execute_reply.started": "2023-09-07T12:48:36.055933Z",
     "shell.execute_reply": "2023-09-07T12:48:36.061477Z"
    },
    "trusted": true
   },
   "execution_count": null,
   "outputs": []
  },
  {
   "cell_type": "code",
   "source": [
    "rf=RandomForestRegressor()"
   ],
   "metadata": {
    "execution": {
     "iopub.status.busy": "2023-09-07T12:50:08.956929Z",
     "iopub.execute_input": "2023-09-07T12:50:08.957339Z",
     "iopub.status.idle": "2023-09-07T12:50:08.963534Z",
     "shell.execute_reply.started": "2023-09-07T12:50:08.957309Z",
     "shell.execute_reply": "2023-09-07T12:50:08.962156Z"
    },
    "trusted": true
   },
   "execution_count": null,
   "outputs": []
  },
  {
   "cell_type": "code",
   "source": [
    "rf_random = RandomizedSearchCV(estimator = rf, param_distributions = random_grid,scoring='neg_mean_squared_error', n_iter = 10, cv = 5, verbose=2, random_state=42, n_jobs = 1)\n"
   ],
   "metadata": {
    "execution": {
     "iopub.status.busy": "2023-09-07T12:51:49.193347Z",
     "iopub.execute_input": "2023-09-07T12:51:49.194051Z",
     "iopub.status.idle": "2023-09-07T12:51:49.199094Z",
     "shell.execute_reply.started": "2023-09-07T12:51:49.194014Z",
     "shell.execute_reply": "2023-09-07T12:51:49.198108Z"
    },
    "trusted": true
   },
   "execution_count": null,
   "outputs": []
  },
  {
   "cell_type": "code",
   "source": [
    "rf_random.fit(X_train,y_train)\n"
   ],
   "metadata": {
    "execution": {
     "iopub.status.busy": "2023-09-07T12:51:52.539428Z",
     "iopub.execute_input": "2023-09-07T12:51:52.539836Z",
     "iopub.status.idle": "2023-09-07T12:53:10.275308Z",
     "shell.execute_reply.started": "2023-09-07T12:51:52.539806Z",
     "shell.execute_reply": "2023-09-07T12:53:10.273568Z"
    },
    "trusted": true
   },
   "execution_count": null,
   "outputs": []
  },
  {
   "cell_type": "code",
   "source": [
    "rf_random.best_params_\n"
   ],
   "metadata": {
    "execution": {
     "iopub.status.busy": "2023-09-07T12:55:02.480005Z",
     "iopub.execute_input": "2023-09-07T12:55:02.480480Z",
     "iopub.status.idle": "2023-09-07T12:55:02.488891Z",
     "shell.execute_reply.started": "2023-09-07T12:55:02.480447Z",
     "shell.execute_reply": "2023-09-07T12:55:02.487686Z"
    },
    "trusted": true
   },
   "execution_count": null,
   "outputs": []
  },
  {
   "cell_type": "code",
   "source": [
    "rf_random.best_score_\n"
   ],
   "metadata": {
    "execution": {
     "iopub.status.busy": "2023-09-07T12:55:04.268491Z",
     "iopub.execute_input": "2023-09-07T12:55:04.269411Z",
     "iopub.status.idle": "2023-09-07T12:55:04.276711Z",
     "shell.execute_reply.started": "2023-09-07T12:55:04.269372Z",
     "shell.execute_reply": "2023-09-07T12:55:04.275344Z"
    },
    "trusted": true
   },
   "execution_count": null,
   "outputs": []
  },
  {
   "cell_type": "code",
   "source": [
    "predictions=rf_random.predict(X_test)\n"
   ],
   "metadata": {
    "execution": {
     "iopub.status.busy": "2023-09-07T12:56:14.805026Z",
     "iopub.execute_input": "2023-09-07T12:56:14.805744Z",
     "iopub.status.idle": "2023-09-07T12:56:14.870731Z",
     "shell.execute_reply.started": "2023-09-07T12:56:14.805711Z",
     "shell.execute_reply": "2023-09-07T12:56:14.869508Z"
    },
    "trusted": true
   },
   "execution_count": null,
   "outputs": []
  },
  {
   "cell_type": "code",
   "source": [
    "sns.distplot(y_test-predictions)\n"
   ],
   "metadata": {
    "execution": {
     "iopub.status.busy": "2023-09-07T12:56:17.572578Z",
     "iopub.execute_input": "2023-09-07T12:56:17.573004Z",
     "iopub.status.idle": "2023-09-07T12:56:18.044804Z",
     "shell.execute_reply.started": "2023-09-07T12:56:17.572972Z",
     "shell.execute_reply": "2023-09-07T12:56:18.043631Z"
    },
    "trusted": true
   },
   "execution_count": null,
   "outputs": []
  },
  {
   "cell_type": "code",
   "source": [
    "plt.scatter(y_test,predictions)\n"
   ],
   "metadata": {
    "execution": {
     "iopub.status.busy": "2023-09-07T12:56:25.011098Z",
     "iopub.execute_input": "2023-09-07T12:56:25.011692Z",
     "iopub.status.idle": "2023-09-07T12:56:25.264905Z",
     "shell.execute_reply.started": "2023-09-07T12:56:25.011659Z",
     "shell.execute_reply": "2023-09-07T12:56:25.263209Z"
    },
    "trusted": true
   },
   "execution_count": null,
   "outputs": []
  },
  {
   "cell_type": "code",
   "source": [
    "from sklearn import metrics\n"
   ],
   "metadata": {
    "execution": {
     "iopub.status.busy": "2023-09-07T12:56:26.521296Z",
     "iopub.execute_input": "2023-09-07T12:56:26.522389Z",
     "iopub.status.idle": "2023-09-07T12:56:26.529649Z",
     "shell.execute_reply.started": "2023-09-07T12:56:26.522350Z",
     "shell.execute_reply": "2023-09-07T12:56:26.527181Z"
    },
    "trusted": true
   },
   "execution_count": null,
   "outputs": []
  },
  {
   "cell_type": "code",
   "source": [
    "print('MAE:', metrics.mean_absolute_error(y_test, predictions))\n",
    "print('MSE:', metrics.mean_squared_error(y_test, predictions))\n",
    "print('RMSE:', np.sqrt(metrics.mean_squared_error(y_test, predictions)))"
   ],
   "metadata": {
    "execution": {
     "iopub.status.busy": "2023-09-07T12:56:34.243861Z",
     "iopub.execute_input": "2023-09-07T12:56:34.246004Z",
     "iopub.status.idle": "2023-09-07T12:56:34.257009Z",
     "shell.execute_reply.started": "2023-09-07T12:56:34.245951Z",
     "shell.execute_reply": "2023-09-07T12:56:34.255578Z"
    },
    "trusted": true
   },
   "execution_count": null,
   "outputs": []
  },
  {
   "cell_type": "code",
   "source": [
    "import pickle\n",
    "# open a file, where you ant to store the data\n",
    "file = open('random_forest_regression_model.pkl', 'wb')\n",
    "\n",
    "# dump information to that file\n",
    "pickle.dump(rf_random, file)"
   ],
   "metadata": {
    "execution": {
     "iopub.status.busy": "2023-09-07T12:56:38.763891Z",
     "iopub.execute_input": "2023-09-07T12:56:38.764660Z",
     "iopub.status.idle": "2023-09-07T12:56:38.857370Z",
     "shell.execute_reply.started": "2023-09-07T12:56:38.764611Z",
     "shell.execute_reply": "2023-09-07T12:56:38.855947Z"
    },
    "trusted": true
   },
   "execution_count": null,
   "outputs": []
  },
  {
   "cell_type": "code",
   "source": [],
   "metadata": {},
   "execution_count": null,
   "outputs": []
  }
 ],
 "kernelspec": {
  "language": "python",
  "display_name": "Python 3",
  "name": "python3"
 },
 "language_info": {
  "pygments_lexer": "ipython3",
  "nbconvert_exporter": "python",
  "version": "3.6.4",
  "file_extension": ".py",
  "codemirror_mode": {
   "name": "ipython",
   "version": 3
  },
  "name": "python",
  "mimetype": "text/x-python"
 }
}
